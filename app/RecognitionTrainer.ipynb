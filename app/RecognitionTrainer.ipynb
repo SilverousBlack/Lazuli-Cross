{
 "metadata": {
  "language_info": {
   "codemirror_mode": {
    "name": "ipython",
    "version": 3
   },
   "file_extension": ".py",
   "mimetype": "text/x-python",
   "name": "python",
   "nbconvert_exporter": "python",
   "pygments_lexer": "ipython3",
   "version": 3
  },
  "orig_nbformat": 2
 },
 "nbformat": 4,
 "nbformat_minor": 2,
 "cells": [
  {
   "cell_type": "code",
   "execution_count": null,
   "metadata": {},
   "outputs": [],
   "source": [
    "!git clone https://github.com/ultralytics/yolov5\n",
    "%cd \"yolov5\"\n",
    "%pip install -qr requirements.txt\n",
    "%cd \"/content"
   ]
  },
  {
   "cell_type": "code",
   "execution_count": null,
   "metadata": {},
   "outputs": [],
   "source": [
    "!git clone https://github.com/Team-Lazuli-Cross/Lazuli-Cross-Filter-Material-Density-Dataset\n",
    "!ln -s \"/content/Lazuli-Cross-Filter-Material-Density-Dataset/FilterMaterialDensity.yaml\" \"/content/FilterMaterialDensity.yaml\"\n",
    "!ln -s \"/content/yolov5/train.py\" \"/content/train.py\"\n",
    "!ln -s \"/content/yolov5/detect.py\" \"/content/detect.py\"\n",
    "!ln -s \"/content/yolov5/requirements.txt\" \"/content/requirements.txt\"\n",
    "%cd \"/content\"\n",
    "%ls -al"
   ]
  },
  {
   "cell_type": "code",
   "execution_count": null,
   "metadata": {},
   "outputs": [],
   "source": [
    "!python train.py --img 640 --batch 2 --epochs 10 --data FilterMaterialDensity.yaml --weights '' --cfg yolov5s6.yaml --cache\n",
    "!python detect.py --weights /content/runs/train/weights/best.pt /content/runs/train/weights/last.pt --conf_thres 0.75 --source /content/Lazuli-Cross-Filter-Material-Density-Dataset/images/test/"
   ]
  },
  {
   "cell_type": "code",
   "execution_count": null,
   "metadata": {},
   "outputs": [],
   "source": [
    "!python train.py --img 640 --batch 2 --epochs 50 --data FilterMaterialDensity.yaml --weights '' --cfg yolov5s6.yaml --cache\n",
    "!python detect.py --weights /content/runs/train/weights/best.pt /content/runs/train/weights/last.pt --conf_thres 0.75 --source /content/Lazuli-Cross-Filter-Material-Density-Dataset/images/test/"
   ]
  },
  {
   "cell_type": "code",
   "execution_count": null,
   "metadata": {},
   "outputs": [],
   "source": [
    "!python train.py --img 640 --batch 2 --epochs 100 --data FilterMaterialDensity.yaml --weights '' --cfg yolov5s6.yaml --cache\n",
    "!python detect.py --weights /content/runs/train/weights/best.pt /content/runs/train/weights/last.pt --conf_thres 0.75 --source /content/Lazuli-Cross-Filter-Material-Density-Dataset/images/test/"
   ]
  },
  {
   "cell_type": "code",
   "execution_count": null,
   "metadata": {},
   "outputs": [],
   "source": [
    "!python train.py --img 640 --batch 2 --epochs 250 --data FilterMaterialDensity.yaml --weights '' --cfg yolov5s6.yaml --cache\n",
    "!python detect.py --weights /content/runs/train/weights/best.pt /content/runs/train/weights/last.pt --conf_thres 0.75 --source /content/Lazuli-Cross-Filter-Material-Density-Dataset/images/test/"
   ]
  },
  {
   "cell_type": "code",
   "execution_count": null,
   "metadata": {},
   "outputs": [],
   "source": [
    "!python train.py --img 640 --batch 2 --epochs 500 --data FilterMaterialDensity.yaml --weights '' --cfg yolov5s6.yaml --cache\n",
    "!python detect.py --weights /content/runs/train/weights/best.pt /content/runs/train/weights/last.pt --conf_thres 0.75 --source /content/Lazuli-Cross-Filter-Material-Density-Dataset/images/test/"
   ]
  },
  {
   "cell_type": "code",
   "execution_count": null,
   "metadata": {},
   "outputs": [],
   "source": [
    "from google.colab import files\n",
    "!zip -r \"/content/runstateod.zip\" \"/content/runs\"\n",
    "files.download(\"/content/runstateod.zip\")"
   ]
  }
 ]
}