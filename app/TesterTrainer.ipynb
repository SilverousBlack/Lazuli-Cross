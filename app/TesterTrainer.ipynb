{
 "metadata": {
  "language_info": {
   "codemirror_mode": {
    "name": "ipython",
    "version": 3
   },
   "file_extension": ".py",
   "mimetype": "text/x-python",
   "name": "python",
   "nbconvert_exporter": "python",
   "pygments_lexer": "ipython3",
   "version": 3
  },
  "orig_nbformat": 2
 },
 "nbformat": 4,
 "nbformat_minor": 2,
 "cells": [
  {
   "cell_type": "code",
   "execution_count": null,
   "metadata": {},
   "outputs": [],
   "source": [
    "!git clone https://github.com/SilverousBlack/Lazuli-Cross\n",
    "!git clone https://github.com/ultralytics/yolov5\n",
    "%cd yolov5\n",
    "%pip install -qr requirements.txt\n",
    "%cd ../Lazuli-Cross/app\n",
    "!ln -s \"data/facemask/FilterMaterialDensity\" \"../../FilterMaterialDensity\"\n",
    "!ln -s \"FilterMaterialDensity.yaml\" \"../../FilterMaterial.yaml\""
   ]
  }
 ]
}